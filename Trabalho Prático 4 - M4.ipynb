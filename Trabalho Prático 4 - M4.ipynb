{
  "nbformat": 4,
  "nbformat_minor": 0,
  "metadata": {
    "colab": {
      "name": "Trabalho Prático 4 - M4.ipynb",
      "provenance": [],
      "collapsed_sections": []
    },
    "kernelspec": {
      "name": "python3",
      "display_name": "Python 3"
    }
  },
  "cells": [
    {
      "cell_type": "markdown",
      "metadata": {
        "id": "8T4FCjyE0gIy",
        "colab_type": "text"
      },
      "source": [
        "**Trabalho prático 4 - Modulo 4 do Bootcamp Analista de Machine Learning da IGTI**"
      ]
    },
    {
      "cell_type": "markdown",
      "metadata": {
        "id": "aSUQFF6O0jcq",
        "colab_type": "text"
      },
      "source": [
        "## Seguindo o Enunciado do Trabalho prático 4. Respoda as seguintes perguntas : "
      ]
    },
    {
      "cell_type": "markdown",
      "metadata": {
        "id": "1dsWNkHXzh8W",
        "colab_type": "text"
      },
      "source": [
        "### Que tipo de Aprendizado foi utilizado no nosso problema?"
      ]
    },
    {
      "cell_type": "markdown",
      "metadata": {
        "id": "sZeRBm3kzkwP",
        "colab_type": "text"
      },
      "source": [
        "Supervisionado. "
      ]
    },
    {
      "cell_type": "markdown",
      "metadata": {
        "id": "PhQI4URMzlP_",
        "colab_type": "text"
      },
      "source": [
        "### O modelo lida com quantas classes?"
      ]
    },
    {
      "cell_type": "markdown",
      "metadata": {
        "id": "9OSaJpPyznl8",
        "colab_type": "text"
      },
      "source": [
        "10."
      ]
    },
    {
      "cell_type": "markdown",
      "metadata": {
        "id": "7Ch3yCxyzxzm",
        "colab_type": "text"
      },
      "source": [
        "### Como os tipos de características foram identificadas?"
      ]
    },
    {
      "cell_type": "markdown",
      "metadata": {
        "id": "_5ChkPR4zyk0",
        "colab_type": "text"
      },
      "source": [
        "Pelos descritores de forma. "
      ]
    },
    {
      "cell_type": "markdown",
      "metadata": {
        "id": "dIrFoCYQz0JY",
        "colab_type": "text"
      },
      "source": [
        "### Podemos citar a análise utilizada aqui como:"
      ]
    },
    {
      "cell_type": "markdown",
      "metadata": {
        "id": "OXX3zHw-z2I6",
        "colab_type": "text"
      },
      "source": [
        "Preditiva"
      ]
    },
    {
      "cell_type": "markdown",
      "metadata": {
        "id": "r3AUmNZGz3W9",
        "colab_type": "text"
      },
      "source": [
        "### Pensando no conceito de Inteligência Artificial, podemos dizer que:"
      ]
    },
    {
      "cell_type": "markdown",
      "metadata": {
        "id": "NEsM38XCz5SH",
        "colab_type": "text"
      },
      "source": [
        "O sistema montado tenta pensar como humanos. "
      ]
    },
    {
      "cell_type": "markdown",
      "metadata": {
        "id": "G6v4JI5bz7jS",
        "colab_type": "text"
      },
      "source": [
        "### O desempenho do sistema deve melhorar não apenas na repetição da mesma tarefa, mas também nas tarefas similares do domínio. Portanto:"
      ]
    },
    {
      "cell_type": "markdown",
      "metadata": {
        "id": "gDyos3Xiz9pd",
        "colab_type": "text"
      },
      "source": [
        "O aprendizado envolve a generalização a partir da experiência. "
      ]
    },
    {
      "cell_type": "markdown",
      "metadata": {
        "id": "dhhwig33z_a0",
        "colab_type": "text"
      },
      "source": [
        "### O exemplo foi que tipo de inferência?"
      ]
    },
    {
      "cell_type": "markdown",
      "metadata": {
        "id": "3QNjBR8t0CCT",
        "colab_type": "text"
      },
      "source": [
        "Indutiva. "
      ]
    },
    {
      "cell_type": "markdown",
      "metadata": {
        "id": "-9M8k8Ty0ETx",
        "colab_type": "text"
      },
      "source": [
        "### Nesse trabalho qual tipo de algoritmo foi usado para classificar?"
      ]
    },
    {
      "cell_type": "markdown",
      "metadata": {
        "id": "_GggYFzK0HCR",
        "colab_type": "text"
      },
      "source": [
        "Redes Neurais. "
      ]
    },
    {
      "cell_type": "markdown",
      "metadata": {
        "id": "JXFcFZ8H0Iqa",
        "colab_type": "text"
      },
      "source": [
        "### Pelo uso do Flatten, podemos afirmar qual foi a rede utilizada?"
      ]
    },
    {
      "cell_type": "markdown",
      "metadata": {
        "id": "6YdEjeMS0KZm",
        "colab_type": "text"
      },
      "source": [
        "Sim, foi uma Rede Neural CNN. "
      ]
    },
    {
      "cell_type": "markdown",
      "metadata": {
        "id": "BgG4Rl1o0NBc",
        "colab_type": "text"
      },
      "source": [
        "### Para que serviu a função Loss no nosso modelo?"
      ]
    },
    {
      "cell_type": "markdown",
      "metadata": {
        "id": "P4URgQnq0PEe",
        "colab_type": "text"
      },
      "source": [
        "Minimiza a função para guiar o modelo para direção certa. "
      ]
    },
    {
      "cell_type": "markdown",
      "metadata": {
        "id": "74yP0Zwz0RJl",
        "colab_type": "text"
      },
      "source": [
        "### Para que serve o comando model.fit?"
      ]
    },
    {
      "cell_type": "markdown",
      "metadata": {
        "id": "x8BTIygJ0TYR",
        "colab_type": "text"
      },
      "source": [
        "Treinamento. "
      ]
    },
    {
      "cell_type": "markdown",
      "metadata": {
        "id": "JfkDXw-k0Uiv",
        "colab_type": "text"
      },
      "source": [
        "### No treinamento do modelo, qual foi a acurácia da Epoch 5/10?"
      ]
    },
    {
      "cell_type": "markdown",
      "metadata": {
        "id": "fIC5BfJb0Waz",
        "colab_type": "text"
      },
      "source": [
        " 0,8914. "
      ]
    },
    {
      "cell_type": "markdown",
      "metadata": {
        "id": "Nxl34ebc0YCS",
        "colab_type": "text"
      },
      "source": [
        "### Quantas imagens foram utilizadas para a etapa de predição?"
      ]
    },
    {
      "cell_type": "markdown",
      "metadata": {
        "id": "yk8nu8ZV0aIo",
        "colab_type": "text"
      },
      "source": [
        "1."
      ]
    },
    {
      "cell_type": "markdown",
      "metadata": {
        "id": "2UFAiG8V0a7e",
        "colab_type": "text"
      },
      "source": [
        "### Acerca do exemplo apresentado responda qual foi o resultado da classificação e se ela retornou o valor correto?"
      ]
    },
    {
      "cell_type": "markdown",
      "metadata": {
        "id": "2imXh09k0dCm",
        "colab_type": "text"
      },
      "source": [
        "Label 9 de forma correta. "
      ]
    }
  ]
}