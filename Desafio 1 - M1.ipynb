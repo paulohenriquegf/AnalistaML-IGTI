{
  "nbformat": 4,
  "nbformat_minor": 0,
  "metadata": {
    "colab": {
      "name": "Desafio Prático 1 - M1.ipynb",
      "provenance": [],
      "collapsed_sections": [
        "m72eEkGq5s2Z",
        "7ozjUWao525D",
        "Svcz_75z6IHw",
        "OeESM07w6Umt",
        "OlYjEbD06aO3",
        "Md6IfYAP6rAn",
        "RRq9O_No6_QA",
        "6004Jt9n7N8X",
        "gYleMTKU7YJ-",
        "CglRrqzV7f_G",
        "ozb8UnMf7l6B",
        "-ay006mE7315",
        "K15c8WsX8ACw",
        "4D4fAQPa8F1B",
        "5HyzqZ748Itx"
      ]
    },
    "kernelspec": {
      "name": "python3",
      "display_name": "Python 3"
    }
  },
  "cells": [
    {
      "cell_type": "markdown",
      "metadata": {
        "id": "unD3mhMB8wJV",
        "colab_type": "text"
      },
      "source": [
        "**Desafio 1 do Modulo 1  realizado no Bootcamp Machine Learning do IGTI**"
      ]
    },
    {
      "cell_type": "markdown",
      "metadata": {
        "id": "fef8nBhP8aYl",
        "colab_type": "text"
      },
      "source": [
        "Importando as bibliotecas que serão utilizadas"
      ]
    },
    {
      "cell_type": "code",
      "metadata": {
        "id": "dpqXPAO0Z14z",
        "colab_type": "code",
        "colab": {
          "base_uri": "https://localhost:8080/",
          "height": 72
        },
        "outputId": "f0ab229c-b601-4c77-89c3-bfff486c833d"
      },
      "source": [
        "import pandas as pd\n",
        "import numpy as np\n",
        "import seaborn as sns\n",
        "import matplotlib.pyplot as plt\n"
      ],
      "execution_count": null,
      "outputs": [
        {
          "output_type": "stream",
          "text": [
            "/usr/local/lib/python3.6/dist-packages/statsmodels/tools/_testing.py:19: FutureWarning: pandas.util.testing is deprecated. Use the functions in the public API at pandas.testing instead.\n",
            "  import pandas.util.testing as tm\n"
          ],
          "name": "stderr"
        }
      ]
    },
    {
      "cell_type": "markdown",
      "metadata": {
        "id": "s85z7fDT8XY2",
        "colab_type": "text"
      },
      "source": [
        "Importando o dataset com o Pandas"
      ]
    },
    {
      "cell_type": "code",
      "metadata": {
        "id": "HLpBoJEEaCqk",
        "colab_type": "code",
        "colab": {}
      },
      "source": [
        "df = pd.read_csv('/content/drive/My Drive/Data Science/IGTI Bootcamp/Modulo 1/Desafio 1/comp_bikes_mod.csv')"
      ],
      "execution_count": null,
      "outputs": []
    },
    {
      "cell_type": "code",
      "metadata": {
        "id": "6qGzQN5taJtP",
        "colab_type": "code",
        "colab": {
          "base_uri": "https://localhost:8080/",
          "height": 301
        },
        "outputId": "59ad9dfd-079b-4bdb-c1c2-051cfe7ea493"
      },
      "source": [
        "df.head()"
      ],
      "execution_count": null,
      "outputs": [
        {
          "output_type": "execute_result",
          "data": {
            "text/html": [
              "<div>\n",
              "<style scoped>\n",
              "    .dataframe tbody tr th:only-of-type {\n",
              "        vertical-align: middle;\n",
              "    }\n",
              "\n",
              "    .dataframe tbody tr th {\n",
              "        vertical-align: top;\n",
              "    }\n",
              "\n",
              "    .dataframe thead th {\n",
              "        text-align: right;\n",
              "    }\n",
              "</style>\n",
              "<table border=\"1\" class=\"dataframe\">\n",
              "  <thead>\n",
              "    <tr style=\"text-align: right;\">\n",
              "      <th></th>\n",
              "      <th>instant</th>\n",
              "      <th>dteday</th>\n",
              "      <th>season</th>\n",
              "      <th>yr</th>\n",
              "      <th>mnth</th>\n",
              "      <th>hr</th>\n",
              "      <th>holiday</th>\n",
              "      <th>weekday</th>\n",
              "      <th>workingday</th>\n",
              "      <th>weathersit</th>\n",
              "      <th>temp</th>\n",
              "      <th>atemp</th>\n",
              "      <th>hum</th>\n",
              "      <th>windspeed</th>\n",
              "      <th>casual</th>\n",
              "      <th>registered</th>\n",
              "      <th>cnt</th>\n",
              "    </tr>\n",
              "  </thead>\n",
              "  <tbody>\n",
              "    <tr>\n",
              "      <th>1</th>\n",
              "      <td>2.0</td>\n",
              "      <td>2011-01-01</td>\n",
              "      <td>1.0</td>\n",
              "      <td>0.0</td>\n",
              "      <td>1.0</td>\n",
              "      <td>1.0</td>\n",
              "      <td>0.0</td>\n",
              "      <td>6.0</td>\n",
              "      <td>0.0</td>\n",
              "      <td>NaN</td>\n",
              "      <td>0.22</td>\n",
              "      <td>0.2727</td>\n",
              "      <td>0.80</td>\n",
              "      <td>0.0000</td>\n",
              "      <td>8.0</td>\n",
              "      <td>32.0</td>\n",
              "      <td>40.0</td>\n",
              "    </tr>\n",
              "    <tr>\n",
              "      <th>2</th>\n",
              "      <td>3.0</td>\n",
              "      <td>2011-01-01</td>\n",
              "      <td>1.0</td>\n",
              "      <td>0.0</td>\n",
              "      <td>1.0</td>\n",
              "      <td>2.0</td>\n",
              "      <td>0.0</td>\n",
              "      <td>6.0</td>\n",
              "      <td>0.0</td>\n",
              "      <td>1.0</td>\n",
              "      <td>0.22</td>\n",
              "      <td>0.2727</td>\n",
              "      <td>0.80</td>\n",
              "      <td>0.0000</td>\n",
              "      <td>5.0</td>\n",
              "      <td>27.0</td>\n",
              "      <td>32.0</td>\n",
              "    </tr>\n",
              "    <tr>\n",
              "      <th>3</th>\n",
              "      <td>4.0</td>\n",
              "      <td>2011-01-01</td>\n",
              "      <td>1.0</td>\n",
              "      <td>0.0</td>\n",
              "      <td>1.0</td>\n",
              "      <td>3.0</td>\n",
              "      <td>0.0</td>\n",
              "      <td>6.0</td>\n",
              "      <td>0.0</td>\n",
              "      <td>1.0</td>\n",
              "      <td>0.24</td>\n",
              "      <td>0.2879</td>\n",
              "      <td>0.75</td>\n",
              "      <td>0.0000</td>\n",
              "      <td>3.0</td>\n",
              "      <td>10.0</td>\n",
              "      <td>13.0</td>\n",
              "    </tr>\n",
              "    <tr>\n",
              "      <th>4</th>\n",
              "      <td>5.0</td>\n",
              "      <td>2011-01-01</td>\n",
              "      <td>1.0</td>\n",
              "      <td>0.0</td>\n",
              "      <td>1.0</td>\n",
              "      <td>4.0</td>\n",
              "      <td>0.0</td>\n",
              "      <td>6.0</td>\n",
              "      <td>NaN</td>\n",
              "      <td>1.0</td>\n",
              "      <td>0.24</td>\n",
              "      <td>0.2879</td>\n",
              "      <td>0.75</td>\n",
              "      <td>0.0000</td>\n",
              "      <td>0.0</td>\n",
              "      <td>1.0</td>\n",
              "      <td>1.0</td>\n",
              "    </tr>\n",
              "    <tr>\n",
              "      <th>5</th>\n",
              "      <td>6.0</td>\n",
              "      <td>2011-01-01</td>\n",
              "      <td>1.0</td>\n",
              "      <td>0.0</td>\n",
              "      <td>1.0</td>\n",
              "      <td>5.0</td>\n",
              "      <td>0.0</td>\n",
              "      <td>6.0</td>\n",
              "      <td>0.0</td>\n",
              "      <td>2.0</td>\n",
              "      <td>0.24</td>\n",
              "      <td>0.2576</td>\n",
              "      <td>0.75</td>\n",
              "      <td>0.0896</td>\n",
              "      <td>0.0</td>\n",
              "      <td>1.0</td>\n",
              "      <td>1.0</td>\n",
              "    </tr>\n",
              "  </tbody>\n",
              "</table>\n",
              "</div>"
            ],
            "text/plain": [
              "   instant      dteday  season   yr  ...  windspeed  casual  registered   cnt\n",
              "1      2.0  2011-01-01     1.0  0.0  ...     0.0000     8.0        32.0  40.0\n",
              "2      3.0  2011-01-01     1.0  0.0  ...     0.0000     5.0        27.0  32.0\n",
              "3      4.0  2011-01-01     1.0  0.0  ...     0.0000     3.0        10.0  13.0\n",
              "4      5.0  2011-01-01     1.0  0.0  ...     0.0000     0.0         1.0   1.0\n",
              "5      6.0  2011-01-01     1.0  0.0  ...     0.0896     0.0         1.0   1.0\n",
              "\n",
              "[5 rows x 17 columns]"
            ]
          },
          "metadata": {
            "tags": []
          },
          "execution_count": 18
        }
      ]
    },
    {
      "cell_type": "markdown",
      "metadata": {
        "id": "m72eEkGq5s2Z",
        "colab_type": "text"
      },
      "source": [
        "### No dataset utilizado para o desafio, quantas instâncias e atributos existem, respectivamente?"
      ]
    },
    {
      "cell_type": "markdown",
      "metadata": {
        "id": "ON2I9IPL6Cqb",
        "colab_type": "text"
      },
      "source": [
        "17379 linhas e 17 colunas"
      ]
    },
    {
      "cell_type": "code",
      "metadata": {
        "id": "C_UpkbrqaLpF",
        "colab_type": "code",
        "colab": {
          "base_uri": "https://localhost:8080/",
          "height": 34
        },
        "outputId": "b9c9d8da-ac76-4af0-fc56-d52ebfe14995"
      },
      "source": [
        "df.shape"
      ],
      "execution_count": null,
      "outputs": [
        {
          "output_type": "execute_result",
          "data": {
            "text/plain": [
              "(17379, 17)"
            ]
          },
          "metadata": {
            "tags": []
          },
          "execution_count": 4
        }
      ]
    },
    {
      "cell_type": "markdown",
      "metadata": {
        "id": "7ozjUWao525D",
        "colab_type": "text"
      },
      "source": [
        "### Quantos tipos diferentes de dados existem no dataset do desafio?"
      ]
    },
    {
      "cell_type": "markdown",
      "metadata": {
        "id": "hd_yyzNz58TS",
        "colab_type": "text"
      },
      "source": [
        "Existem 2 tipos: Float64 e Object"
      ]
    },
    {
      "cell_type": "code",
      "metadata": {
        "id": "jUdItiEp56pP",
        "colab_type": "code",
        "colab": {
          "base_uri": "https://localhost:8080/",
          "height": 443
        },
        "outputId": "9d7727fa-7695-45d8-e2b8-c58b83eeb383"
      },
      "source": [
        "df.info()"
      ],
      "execution_count": null,
      "outputs": [
        {
          "output_type": "stream",
          "text": [
            "<class 'pandas.core.frame.DataFrame'>\n",
            "RangeIndex: 17379 entries, 0 to 17378\n",
            "Data columns (total 17 columns):\n",
            " #   Column      Non-Null Count  Dtype  \n",
            "---  ------      --------------  -----  \n",
            " 0   instant     15641 non-null  float64\n",
            " 1   dteday      15641 non-null  object \n",
            " 2   season      15641 non-null  float64\n",
            " 3   yr          15641 non-null  float64\n",
            " 4   mnth        15641 non-null  float64\n",
            " 5   hr          15641 non-null  float64\n",
            " 6   holiday     15641 non-null  float64\n",
            " 7   weekday     15641 non-null  float64\n",
            " 8   workingday  15641 non-null  float64\n",
            " 9   weathersit  15641 non-null  float64\n",
            " 10  temp        15641 non-null  float64\n",
            " 11  atemp       15641 non-null  float64\n",
            " 12  hum         15641 non-null  float64\n",
            " 13  windspeed   15641 non-null  float64\n",
            " 14  casual      15641 non-null  float64\n",
            " 15  registered  15641 non-null  float64\n",
            " 16  cnt         15641 non-null  float64\n",
            "dtypes: float64(16), object(1)\n",
            "memory usage: 2.2+ MB\n"
          ],
          "name": "stdout"
        }
      ]
    },
    {
      "cell_type": "markdown",
      "metadata": {
        "id": "Svcz_75z6IHw",
        "colab_type": "text"
      },
      "source": [
        "### Qual é a proporção (em %) de valores nulos existente na coluna \"temp\" (temperatura ambiente normalizada)?"
      ]
    },
    {
      "cell_type": "markdown",
      "metadata": {
        "id": "rxQ1ryNq6KCu",
        "colab_type": "text"
      },
      "source": [
        "Existe 10% de valores nulos"
      ]
    },
    {
      "cell_type": "code",
      "metadata": {
        "id": "8Lk6ELUYbz9m",
        "colab_type": "code",
        "colab": {
          "base_uri": "https://localhost:8080/",
          "height": 336
        },
        "outputId": "b5929bf4-9d3f-4df4-9cfe-34898be3f322"
      },
      "source": [
        "df.isnull().sum() / len(df) * 100"
      ],
      "execution_count": null,
      "outputs": [
        {
          "output_type": "execute_result",
          "data": {
            "text/plain": [
              "instant       10.108049\n",
              "dteday         0.000000\n",
              "season        10.101656\n",
              "yr            10.005754\n",
              "mnth          10.095262\n",
              "hr            10.056902\n",
              "holiday       10.005754\n",
              "weekday        9.992967\n",
              "workingday     9.871492\n",
              "weathersit     9.992967\n",
              "temp          10.069689\n",
              "atemp         10.005754\n",
              "hum           10.044115\n",
              "windspeed      9.967393\n",
              "casual        10.037721\n",
              "registered     9.916246\n",
              "cnt            9.986574\n",
              "dtype: float64"
            ]
          },
          "metadata": {
            "tags": []
          },
          "execution_count": 19
        }
      ]
    },
    {
      "cell_type": "markdown",
      "metadata": {
        "id": "OeESM07w6Umt",
        "colab_type": "text"
      },
      "source": [
        "### Após retirar as linhas que contém valores nulos para a coluna \"dteday\", passamos a contar com quantas instancias e atributos, respectivamente?"
      ]
    },
    {
      "cell_type": "markdown",
      "metadata": {
        "id": "4iaYp9ASFk7Y",
        "colab_type": "text"
      },
      "source": [
        "15641 linhas e 17 colunas "
      ]
    },
    {
      "cell_type": "code",
      "metadata": {
        "id": "jiC7bZHwEx34",
        "colab_type": "code",
        "colab": {}
      },
      "source": [
        "df.dropna(subset=['dteday'],inplace=True)"
      ],
      "execution_count": null,
      "outputs": []
    },
    {
      "cell_type": "code",
      "metadata": {
        "id": "z3Ev9NxqFDId",
        "colab_type": "code",
        "colab": {
          "base_uri": "https://localhost:8080/",
          "height": 34
        },
        "outputId": "89130f01-832f-457f-9cdf-023eb25e5c2a"
      },
      "source": [
        "df.shape"
      ],
      "execution_count": null,
      "outputs": [
        {
          "output_type": "execute_result",
          "data": {
            "text/plain": [
              "(15641, 17)"
            ]
          },
          "metadata": {
            "tags": []
          },
          "execution_count": 20
        }
      ]
    },
    {
      "cell_type": "markdown",
      "metadata": {
        "id": "OlYjEbD06aO3",
        "colab_type": "text"
      },
      "source": [
        "### Considere o dataset após a retirada das linhas que continham valores nulos para a coluna \"dteday\". Qual é o valor médio para os dados da coluna \"temp\" (temperatura ambiente normalizada)?"
      ]
    },
    {
      "cell_type": "markdown",
      "metadata": {
        "id": "FdhivyjZ6kVr",
        "colab_type": "text"
      },
      "source": [
        "A média é de 0,496 "
      ]
    },
    {
      "cell_type": "code",
      "metadata": {
        "id": "Z_nare0O6fml",
        "colab_type": "code",
        "colab": {
          "base_uri": "https://localhost:8080/",
          "height": 34
        },
        "outputId": "209ab945-20a4-433c-8b5f-db23beeb0237"
      },
      "source": [
        "df['temp'].mean()"
      ],
      "execution_count": null,
      "outputs": [
        {
          "output_type": "execute_result",
          "data": {
            "text/plain": [
              "0.4970615689533976"
            ]
          },
          "metadata": {
            "tags": []
          },
          "execution_count": 9
        }
      ]
    },
    {
      "cell_type": "markdown",
      "metadata": {
        "id": "Md6IfYAP6rAn",
        "colab_type": "text"
      },
      "source": [
        "### Considere o dataset após a retirada das linhas que continham valores nulos para a coluna \"dteday\". Qual é o desvio padrão para os dados da coluna \"windspeed\" (velocidade do vento normalizada)?"
      ]
    },
    {
      "cell_type": "markdown",
      "metadata": {
        "id": "4bydrcWx61qQ",
        "colab_type": "text"
      },
      "source": [
        "Desvio padrão de 0,122"
      ]
    },
    {
      "cell_type": "code",
      "metadata": {
        "id": "U4SUERNjpFqn",
        "colab_type": "code",
        "colab": {
          "base_uri": "https://localhost:8080/",
          "height": 34
        },
        "outputId": "32e8b6da-2870-40c9-c660-b45857895b14"
      },
      "source": [
        "df['windspeed'].std()"
      ],
      "execution_count": null,
      "outputs": [
        {
          "output_type": "execute_result",
          "data": {
            "text/plain": [
              "0.12218831459766737"
            ]
          },
          "metadata": {
            "tags": []
          },
          "execution_count": 10
        }
      ]
    },
    {
      "cell_type": "markdown",
      "metadata": {
        "id": "RRq9O_No6_QA",
        "colab_type": "text"
      },
      "source": [
        "### Considere o dataset após a retirada das linhas que continham valores nulos para a coluna \"dteday\". Transforme a coluna \"season\" em valores categóricos. Quantas categorias diferentes existem?"
      ]
    },
    {
      "cell_type": "markdown",
      "metadata": {
        "id": "h4oO2L9b7Ass",
        "colab_type": "text"
      },
      "source": [
        "A coluna possui 4 categorias"
      ]
    },
    {
      "cell_type": "code",
      "metadata": {
        "id": "F6BR95kIrQAY",
        "colab_type": "code",
        "colab": {
          "base_uri": "https://localhost:8080/",
          "height": 105
        },
        "outputId": "f2c7d7fc-e513-4822-a5a2-873ceb05f090"
      },
      "source": [
        "df['season'].value_counts()"
      ],
      "execution_count": null,
      "outputs": [
        {
          "output_type": "execute_result",
          "data": {
            "text/plain": [
              "3.0    4032\n",
              "2.0    3970\n",
              "4.0    3827\n",
              "1.0    3812\n",
              "Name: season, dtype: int64"
            ]
          },
          "metadata": {
            "tags": []
          },
          "execution_count": 60
        }
      ]
    },
    {
      "cell_type": "markdown",
      "metadata": {
        "id": "6004Jt9n7N8X",
        "colab_type": "text"
      },
      "source": [
        "### Considere o dataset após a retirada das linhas que continham valores nulos para a coluna \"dteday\". Transforme a coluna \"dteday\" no tipo \"datetime\". Qual é a última data presente no dataset ( YYYY-MM-DD)?"
      ]
    },
    {
      "cell_type": "markdown",
      "metadata": {
        "id": "dRbUKnEc7SpZ",
        "colab_type": "text"
      },
      "source": [
        "A ultima data é 2012-12-31 "
      ]
    },
    {
      "cell_type": "code",
      "metadata": {
        "id": "99kt1_U-riSu",
        "colab_type": "code",
        "colab": {}
      },
      "source": [
        "df['dteday'] = pd.to_datetime(df['dteday'])"
      ],
      "execution_count": null,
      "outputs": []
    },
    {
      "cell_type": "code",
      "metadata": {
        "id": "saWB20AGsJ-C",
        "colab_type": "code",
        "colab": {
          "base_uri": "https://localhost:8080/",
          "height": 141
        },
        "outputId": "380c313c-16e8-4396-e04b-d47126bc1117"
      },
      "source": [
        "df['dteday'].describe()"
      ],
      "execution_count": null,
      "outputs": [
        {
          "output_type": "execute_result",
          "data": {
            "text/plain": [
              "count                   15641\n",
              "unique                    731\n",
              "top       2012-11-28 00:00:00\n",
              "freq                       24\n",
              "first     2011-01-01 00:00:00\n",
              "last      2012-12-31 00:00:00\n",
              "Name: dteday, dtype: object"
            ]
          },
          "metadata": {
            "tags": []
          },
          "execution_count": 72
        }
      ]
    },
    {
      "cell_type": "markdown",
      "metadata": {
        "id": "gYleMTKU7YJ-",
        "colab_type": "text"
      },
      "source": [
        "### Considere o dataset após a retirada das linhas que continham valores nulos para a coluna \"dteday\". Considerendo o boxplot da variável \"windspeed\" (velocidade do vento) é CORRETO afirmar?"
      ]
    },
    {
      "cell_type": "markdown",
      "metadata": {
        "id": "4QqIfO6M7Zc0",
        "colab_type": "text"
      },
      "source": [
        "Existem possíveis outliers, pois existem marcações (pontos) foras dos limites do boxplot."
      ]
    },
    {
      "cell_type": "code",
      "metadata": {
        "id": "P_pQDUwwsWr8",
        "colab_type": "code",
        "colab": {
          "base_uri": "https://localhost:8080/",
          "height": 296
        },
        "outputId": "b7d7906e-ac48-4a28-a4d1-cc2fb260187e"
      },
      "source": [
        "sns.boxplot(x='windspeed', data=df)"
      ],
      "execution_count": null,
      "outputs": [
        {
          "output_type": "execute_result",
          "data": {
            "text/plain": [
              "<matplotlib.axes._subplots.AxesSubplot at 0x7f2b2af74ac8>"
            ]
          },
          "metadata": {
            "tags": []
          },
          "execution_count": 73
        },
        {
          "output_type": "display_data",
          "data": {
            "image/png": "[encoded data removed]",
            "text/plain": [
              "<Figure size 432x288 with 1 Axes>"
            ]
          },
          "metadata": {
            "tags": [],
            "needs_background": "light"
          }
        }
      ]
    },
    {
      "cell_type": "markdown",
      "metadata": {
        "id": "CglRrqzV7f_G",
        "colab_type": "text"
      },
      "source": [
        "### Considere o dataset após a retirada das linhas que continham valores nulos para a coluna \"dteday\". Selecione as colunas \"season\", \"temp\", \"atemp\", \"hum\", \"windspeed\". Plot a matriz de correlação. Sobre as variáveis \"hum\" e \"cnt\" é CORRETO afirmar:"
      ]
    },
    {
      "cell_type": "markdown",
      "metadata": {
        "id": "AfMfRYhO7jLq",
        "colab_type": "text"
      },
      "source": [
        "Possuem baixa correlação linear negativa. "
      ]
    },
    {
      "cell_type": "code",
      "metadata": {
        "id": "eVK-bQU5sqnF",
        "colab_type": "code",
        "colab": {
          "base_uri": "https://localhost:8080/",
          "height": 227
        },
        "outputId": "af5d5d38-2085-4298-f6c6-4829ee095bca"
      },
      "source": [
        "df[[\"season\", \"temp\", \"atemp\",\"windspeed\",'cnt',\"hum\"]].corr()"
      ],
      "execution_count": null,
      "outputs": [
        {
          "output_type": "execute_result",
          "data": {
            "text/html": [
              "<div>\n",
              "<style scoped>\n",
              "    .dataframe tbody tr th:only-of-type {\n",
              "        vertical-align: middle;\n",
              "    }\n",
              "\n",
              "    .dataframe tbody tr th {\n",
              "        vertical-align: top;\n",
              "    }\n",
              "\n",
              "    .dataframe thead th {\n",
              "        text-align: right;\n",
              "    }\n",
              "</style>\n",
              "<table border=\"1\" class=\"dataframe\">\n",
              "  <thead>\n",
              "    <tr style=\"text-align: right;\">\n",
              "      <th></th>\n",
              "      <th>season</th>\n",
              "      <th>temp</th>\n",
              "      <th>atemp</th>\n",
              "      <th>windspeed</th>\n",
              "      <th>cnt</th>\n",
              "      <th>hum</th>\n",
              "    </tr>\n",
              "  </thead>\n",
              "  <tbody>\n",
              "    <tr>\n",
              "      <th>season</th>\n",
              "      <td>1.000000</td>\n",
              "      <td>0.310685</td>\n",
              "      <td>0.318424</td>\n",
              "      <td>-0.147692</td>\n",
              "      <td>0.173586</td>\n",
              "      <td>0.149990</td>\n",
              "    </tr>\n",
              "    <tr>\n",
              "      <th>temp</th>\n",
              "      <td>0.310685</td>\n",
              "      <td>1.000000</td>\n",
              "      <td>0.987693</td>\n",
              "      <td>-0.015241</td>\n",
              "      <td>0.408528</td>\n",
              "      <td>-0.066523</td>\n",
              "    </tr>\n",
              "    <tr>\n",
              "      <th>atemp</th>\n",
              "      <td>0.318424</td>\n",
              "      <td>0.987693</td>\n",
              "      <td>1.000000</td>\n",
              "      <td>-0.056203</td>\n",
              "      <td>0.404709</td>\n",
              "      <td>-0.052469</td>\n",
              "    </tr>\n",
              "    <tr>\n",
              "      <th>windspeed</th>\n",
              "      <td>-0.147692</td>\n",
              "      <td>-0.015241</td>\n",
              "      <td>-0.056203</td>\n",
              "      <td>1.000000</td>\n",
              "      <td>0.093503</td>\n",
              "      <td>-0.292366</td>\n",
              "    </tr>\n",
              "    <tr>\n",
              "      <th>cnt</th>\n",
              "      <td>0.173586</td>\n",
              "      <td>0.408528</td>\n",
              "      <td>0.404709</td>\n",
              "      <td>0.093503</td>\n",
              "      <td>1.000000</td>\n",
              "      <td>-0.323834</td>\n",
              "    </tr>\n",
              "    <tr>\n",
              "      <th>hum</th>\n",
              "      <td>0.149990</td>\n",
              "      <td>-0.066523</td>\n",
              "      <td>-0.052469</td>\n",
              "      <td>-0.292366</td>\n",
              "      <td>-0.323834</td>\n",
              "      <td>1.000000</td>\n",
              "    </tr>\n",
              "  </tbody>\n",
              "</table>\n",
              "</div>"
            ],
            "text/plain": [
              "             season      temp     atemp  windspeed       cnt       hum\n",
              "season     1.000000  0.310685  0.318424  -0.147692  0.173586  0.149990\n",
              "temp       0.310685  1.000000  0.987693  -0.015241  0.408528 -0.066523\n",
              "atemp      0.318424  0.987693  1.000000  -0.056203  0.404709 -0.052469\n",
              "windspeed -0.147692 -0.015241 -0.056203   1.000000  0.093503 -0.292366\n",
              "cnt        0.173586  0.408528  0.404709   0.093503  1.000000 -0.323834\n",
              "hum        0.149990 -0.066523 -0.052469  -0.292366 -0.323834  1.000000"
            ]
          },
          "metadata": {
            "tags": []
          },
          "execution_count": 78
        }
      ]
    },
    {
      "cell_type": "markdown",
      "metadata": {
        "id": "ozb8UnMf7l6B",
        "colab_type": "text"
      },
      "source": [
        "### Preencha os valores nulos das colunas \"hum\",\"cnt\" e \"casual\" com os valores médios. Utilize as variáveis \"hum\" e \"casual\" como independentes e a \"cnt\" como dependente. Aplique uma regressão linear. Qual o valor de R2? Utilize as entradas como teste."
      ]
    },
    {
      "cell_type": "markdown",
      "metadata": {
        "id": "jw9wXhZr7q0j",
        "colab_type": "text"
      },
      "source": [
        "R2 = 0.40 "
      ]
    },
    {
      "cell_type": "code",
      "metadata": {
        "id": "twISUBlTtHDg",
        "colab_type": "code",
        "colab": {}
      },
      "source": [
        "df['hum'].fillna(df['hum'].mean(), inplace = True)\n",
        "df['cnt'].fillna(df['cnt'].mean(), inplace = True)\n",
        "df['casual'].fillna(df['casual'].mean(), inplace = True)"
      ],
      "execution_count": null,
      "outputs": []
    },
    {
      "cell_type": "code",
      "metadata": {
        "id": "X8cjSj8dumGl",
        "colab_type": "code",
        "colab": {}
      },
      "source": [
        "X= df[[\"hum\", \"casual\"]]\n",
        "y= df['cnt']"
      ],
      "execution_count": null,
      "outputs": []
    },
    {
      "cell_type": "code",
      "metadata": {
        "id": "rJZ0rN_duvbe",
        "colab_type": "code",
        "colab": {}
      },
      "source": [
        "from sklearn.linear_model import LinearRegression"
      ],
      "execution_count": null,
      "outputs": []
    },
    {
      "cell_type": "code",
      "metadata": {
        "id": "pJK50w0ku_cU",
        "colab_type": "code",
        "colab": {}
      },
      "source": [
        "lr = LinearRegression()"
      ],
      "execution_count": null,
      "outputs": []
    },
    {
      "cell_type": "code",
      "metadata": {
        "id": "1NrxDG5evBhS",
        "colab_type": "code",
        "colab": {
          "base_uri": "https://localhost:8080/",
          "height": 34
        },
        "outputId": "9c4f166a-1907-4d0e-cd6f-92791d090364"
      },
      "source": [
        "lr.fit(X, y)"
      ],
      "execution_count": null,
      "outputs": [
        {
          "output_type": "execute_result",
          "data": {
            "text/plain": [
              "LinearRegression(copy_X=True, fit_intercept=True, n_jobs=None, normalize=False)"
            ]
          },
          "metadata": {
            "tags": []
          },
          "execution_count": 129
        }
      ]
    },
    {
      "cell_type": "code",
      "metadata": {
        "id": "87sOh3O0vKlu",
        "colab_type": "code",
        "colab": {}
      },
      "source": [
        "from sklearn.metrics import r2_score\n"
      ],
      "execution_count": null,
      "outputs": []
    },
    {
      "cell_type": "code",
      "metadata": {
        "id": "Nr_lSN6fvyeS",
        "colab_type": "code",
        "colab": {}
      },
      "source": [
        "y_pred = lr.predict(X)"
      ],
      "execution_count": null,
      "outputs": []
    },
    {
      "cell_type": "code",
      "metadata": {
        "id": "LgeAZgJ8vWUs",
        "colab_type": "code",
        "colab": {
          "base_uri": "https://localhost:8080/",
          "height": 34
        },
        "outputId": "87377c20-6ffe-4f8a-a258-a6a475ef5a6a"
      },
      "source": [
        "r2_score(y, y_pred)"
      ],
      "execution_count": null,
      "outputs": [
        {
          "output_type": "execute_result",
          "data": {
            "text/plain": [
              "0.40561165206692495"
            ]
          },
          "metadata": {
            "tags": []
          },
          "execution_count": 131
        }
      ]
    },
    {
      "cell_type": "markdown",
      "metadata": {
        "id": "-ay006mE7315",
        "colab_type": "text"
      },
      "source": [
        "### Utilize os mesmos dados da questão anterior (\"hum\" e \"casual\" como variáveis independentes e \"cnt\" como variavel dependente). Aplique a árvore de decisão como regressão. Qual é o valor aproximado de R2? Utilize as entradas como teste e valores \"default\"."
      ]
    },
    {
      "cell_type": "markdown",
      "metadata": {
        "id": "7-89Zs8276Wf",
        "colab_type": "text"
      },
      "source": [
        "R2 = 0,70 "
      ]
    },
    {
      "cell_type": "code",
      "metadata": {
        "id": "xAhJSKZ0wEeR",
        "colab_type": "code",
        "colab": {}
      },
      "source": [
        "from sklearn.tree import DecisionTreeRegressor"
      ],
      "execution_count": null,
      "outputs": []
    },
    {
      "cell_type": "code",
      "metadata": {
        "id": "VZVedLUwwEb9",
        "colab_type": "code",
        "colab": {}
      },
      "source": [
        "dtr = DecisionTreeRegressor()"
      ],
      "execution_count": null,
      "outputs": []
    },
    {
      "cell_type": "code",
      "metadata": {
        "id": "qPV6fLCmwPrY",
        "colab_type": "code",
        "colab": {
          "base_uri": "https://localhost:8080/",
          "height": 123
        },
        "outputId": "38f8bca5-3727-434e-a9d1-5494c012f3c2"
      },
      "source": [
        "dtr.fit(X, y)"
      ],
      "execution_count": null,
      "outputs": [
        {
          "output_type": "execute_result",
          "data": {
            "text/plain": [
              "DecisionTreeRegressor(ccp_alpha=0.0, criterion='mse', max_depth=None,\n",
              "                      max_features=None, max_leaf_nodes=None,\n",
              "                      min_impurity_decrease=0.0, min_impurity_split=None,\n",
              "                      min_samples_leaf=1, min_samples_split=2,\n",
              "                      min_weight_fraction_leaf=0.0, presort='deprecated',\n",
              "                      random_state=None, splitter='best')"
            ]
          },
          "metadata": {
            "tags": []
          },
          "execution_count": 126
        }
      ]
    },
    {
      "cell_type": "code",
      "metadata": {
        "id": "nPijTORxwUUY",
        "colab_type": "code",
        "colab": {}
      },
      "source": [
        "pred = dtr.predict(X)"
      ],
      "execution_count": null,
      "outputs": []
    },
    {
      "cell_type": "code",
      "metadata": {
        "id": "-jT3J-sswY4I",
        "colab_type": "code",
        "colab": {
          "base_uri": "https://localhost:8080/",
          "height": 34
        },
        "outputId": "af51989c-dbe3-48db-f2a9-d4bfb2caeef9"
      },
      "source": [
        "r2_score(y, pred)"
      ],
      "execution_count": null,
      "outputs": [
        {
          "output_type": "execute_result",
          "data": {
            "text/plain": [
              "0.6973174287156154"
            ]
          },
          "metadata": {
            "tags": []
          },
          "execution_count": 128
        }
      ]
    },
    {
      "cell_type": "markdown",
      "metadata": {
        "id": "K15c8WsX8ACw",
        "colab_type": "text"
      },
      "source": [
        "### Comparando os valores de R2 encontrado com a regressão linear e com a árvore de decisão, é CORRETO afirmar:"
      ]
    },
    {
      "cell_type": "markdown",
      "metadata": {
        "id": "C5dtPWR98B3D",
        "colab_type": "text"
      },
      "source": [
        "O valor obtido pela árvore de decisão como regressor apresenta maior R2 "
      ]
    },
    {
      "cell_type": "markdown",
      "metadata": {
        "id": "4D4fAQPa8F1B",
        "colab_type": "text"
      },
      "source": [
        "### Comparando o SVM com a árvore de decisão é CORRETO afirmar:"
      ]
    },
    {
      "cell_type": "markdown",
      "metadata": {
        "id": "sRlAGAzw8IFL",
        "colab_type": "text"
      },
      "source": [
        "SVM encontra o hiperplano que gera a maior separação entre os dados."
      ]
    },
    {
      "cell_type": "markdown",
      "metadata": {
        "id": "5HyzqZ748Itx",
        "colab_type": "text"
      },
      "source": [
        "### Com base na árvore de decisão é CORRETO afirmar:"
      ]
    },
    {
      "cell_type": "markdown",
      "metadata": {
        "id": "91uccXY38K6D",
        "colab_type": "text"
      },
      "source": [
        "Pode ser utilizada para classificação e regressão. "
      ]
    }
  ]
}