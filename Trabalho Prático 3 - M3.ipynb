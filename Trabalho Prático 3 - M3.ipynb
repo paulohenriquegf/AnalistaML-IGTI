{
  "nbformat": 4,
  "nbformat_minor": 0,
  "metadata": {
    "colab": {
      "name": "Trabalho Prático 3 - M3.ipynb",
      "provenance": [],
      "collapsed_sections": []
    },
    "kernelspec": {
      "name": "python3",
      "display_name": "Python 3"
    }
  },
  "cells": [
    {
      "cell_type": "markdown",
      "metadata": {
        "id": "BQbgzLsdw_hC",
        "colab_type": "text"
      },
      "source": [
        "**Trabalho prático 3 - Modulo 3 do Bootcamp Analista de Machine Learning da IGTI**"
      ]
    },
    {
      "cell_type": "code",
      "metadata": {
        "id": "QDD8slOoeFVw",
        "colab_type": "code",
        "colab": {
          "base_uri": "https://localhost:8080/",
          "height": 34
        },
        "outputId": "293bb749-57be-4f58-d7c6-1a620cd91576"
      },
      "source": [
        "from sklearn import datasets\n",
        "from sklearn.decomposition import PCA\n",
        "iris = datasets.load_iris()\n",
        "X = iris.data[:, :2] # pegamos as primeiras duas features aqui. Pegue as outras se quiser.\n",
        "y = iris.target\n",
        "y[0] # classe do primeiro elemento\n",
        "X[:1, :] # primeiro elemento a classificar"
      ],
      "execution_count": 1,
      "outputs": [
        {
          "output_type": "execute_result",
          "data": {
            "text/plain": [
              "array([[5.1, 3.5]])"
            ]
          },
          "metadata": {
            "tags": []
          },
          "execution_count": 1
        }
      ]
    },
    {
      "cell_type": "code",
      "metadata": {
        "id": "hs4cuwP1w2oV",
        "colab_type": "code",
        "colab": {
          "base_uri": "https://localhost:8080/",
          "height": 87
        },
        "outputId": "f94cd07d-88d6-4ccd-e2f6-711070252f39"
      },
      "source": [
        "iris.feature_names"
      ],
      "execution_count": 10,
      "outputs": [
        {
          "output_type": "execute_result",
          "data": {
            "text/plain": [
              "['sepal length (cm)',\n",
              " 'sepal width (cm)',\n",
              " 'petal length (cm)',\n",
              " 'petal width (cm)']"
            ]
          },
          "metadata": {
            "tags": []
          },
          "execution_count": 10
        }
      ]
    },
    {
      "cell_type": "code",
      "metadata": {
        "id": "rfwHe8tKw8gR",
        "colab_type": "code",
        "colab": {
          "base_uri": "https://localhost:8080/",
          "height": 34
        },
        "outputId": "e256d735-aaa2-4527-fa8a-dfb4df2ecacf"
      },
      "source": [
        "iris.target_names"
      ],
      "execution_count": 11,
      "outputs": [
        {
          "output_type": "execute_result",
          "data": {
            "text/plain": [
              "array(['setosa', 'versicolor', 'virginica'], dtype='<U10')"
            ]
          },
          "metadata": {
            "tags": []
          },
          "execution_count": 11
        }
      ]
    },
    {
      "cell_type": "markdown",
      "metadata": {
        "id": "SgMFPhJlfKJ0",
        "colab_type": "text"
      },
      "source": [
        "# O problema apresentado é de qual tipo?"
      ]
    },
    {
      "cell_type": "markdown",
      "metadata": {
        "id": "m6wfbKlCfLy3",
        "colab_type": "text"
      },
      "source": [
        "Classificação single label."
      ]
    },
    {
      "cell_type": "markdown",
      "metadata": {
        "id": "G71C6xOvfOyo",
        "colab_type": "text"
      },
      "source": [
        "# Qual dos algoritmos abaixo não seria adequado para resolver o problema?"
      ]
    },
    {
      "cell_type": "markdown",
      "metadata": {
        "id": "FyOvvSalfRX9",
        "colab_type": "text"
      },
      "source": [
        "sklearn.linear_model.LinearRegression"
      ]
    },
    {
      "cell_type": "markdown",
      "metadata": {
        "id": "OI_aoweMfTDt",
        "colab_type": "text"
      },
      "source": [
        "# Relacionado ao algoritmo sklearn.neighbors.KNeighborsClassifier, para o parâmetro “algorithm”, o que podemos afirmar acerca de uma potencial otimização desse hiperparâmetro?"
      ]
    },
    {
      "cell_type": "markdown",
      "metadata": {
        "id": "-ixSPeqxfYRi",
        "colab_type": "text"
      },
      "source": [
        "Temos até três valores para a otimização explorar. "
      ]
    },
    {
      "cell_type": "markdown",
      "metadata": {
        "id": "Xut3VigofaFX",
        "colab_type": "text"
      },
      "source": [
        "# Quantas classes o dataset do trabalho tem?"
      ]
    },
    {
      "cell_type": "markdown",
      "metadata": {
        "id": "Z_DXmWUIfj5c",
        "colab_type": "text"
      },
      "source": [
        "Três classes"
      ]
    },
    {
      "cell_type": "code",
      "metadata": {
        "id": "IWqMTwdWfbVR",
        "colab_type": "code",
        "colab": {
          "base_uri": "https://localhost:8080/",
          "height": 141
        },
        "outputId": "c818dcef-e126-4b72-9291-4151d9e044b2"
      },
      "source": [
        "y"
      ],
      "execution_count": 8,
      "outputs": [
        {
          "output_type": "execute_result",
          "data": {
            "text/plain": [
              "array([0, 0, 0, 0, 0, 0, 0, 0, 0, 0, 0, 0, 0, 0, 0, 0, 0, 0, 0, 0, 0, 0,\n",
              "       0, 0, 0, 0, 0, 0, 0, 0, 0, 0, 0, 0, 0, 0, 0, 0, 0, 0, 0, 0, 0, 0,\n",
              "       0, 0, 0, 0, 0, 0, 1, 1, 1, 1, 1, 1, 1, 1, 1, 1, 1, 1, 1, 1, 1, 1,\n",
              "       1, 1, 1, 1, 1, 1, 1, 1, 1, 1, 1, 1, 1, 1, 1, 1, 1, 1, 1, 1, 1, 1,\n",
              "       1, 1, 1, 1, 1, 1, 1, 1, 1, 1, 1, 1, 2, 2, 2, 2, 2, 2, 2, 2, 2, 2,\n",
              "       2, 2, 2, 2, 2, 2, 2, 2, 2, 2, 2, 2, 2, 2, 2, 2, 2, 2, 2, 2, 2, 2,\n",
              "       2, 2, 2, 2, 2, 2, 2, 2, 2, 2, 2, 2, 2, 2, 2, 2, 2, 2])"
            ]
          },
          "metadata": {
            "tags": []
          },
          "execution_count": 8
        }
      ]
    },
    {
      "cell_type": "markdown",
      "metadata": {
        "id": "QQM_s-TqfnKB",
        "colab_type": "text"
      },
      "source": [
        "# Qual é o total de amostras que o dataset possui?"
      ]
    },
    {
      "cell_type": "markdown",
      "metadata": {
        "id": "-53IIXh0fsft",
        "colab_type": "text"
      },
      "source": [
        "150 amostras"
      ]
    },
    {
      "cell_type": "code",
      "metadata": {
        "id": "AsXeED7UfpO1",
        "colab_type": "code",
        "colab": {
          "base_uri": "https://localhost:8080/",
          "height": 34
        },
        "outputId": "362444b3-924d-4eb4-a230-2d3474cdcd6a"
      },
      "source": [
        "X.shape"
      ],
      "execution_count": null,
      "outputs": [
        {
          "output_type": "execute_result",
          "data": {
            "text/plain": [
              "(150, 2)"
            ]
          },
          "metadata": {
            "tags": []
          },
          "execution_count": 14
        }
      ]
    },
    {
      "cell_type": "markdown",
      "metadata": {
        "id": "sVzTeioHfuUf",
        "colab_type": "text"
      },
      "source": [
        "# Para o algoritmo sklearn.ensemble.RandomForestClassifier, a sintaxe para chamar o algoritmo GridSearchCV sobre o intervalo de “5 a 300” do parâmetro “n_estimators”, para otimização, seria:"
      ]
    },
    {
      "cell_type": "markdown",
      "metadata": {
        "id": "wltkoQWhgWFm",
        "colab_type": "text"
      },
      "source": [
        "params = {'n_estimators': [5, 300]}"
      ]
    },
    {
      "cell_type": "markdown",
      "metadata": {
        "id": "dUpLN-nOgY9h",
        "colab_type": "text"
      },
      "source": [
        "# Qual é a métrica de qualidade mais adequada para a resolução desse problema?\n"
      ]
    },
    {
      "cell_type": "markdown",
      "metadata": {
        "id": "vKM32RnliNBq",
        "colab_type": "text"
      },
      "source": [
        "Acurácia. "
      ]
    },
    {
      "cell_type": "markdown",
      "metadata": {
        "id": "VYFnmBVnhB59",
        "colab_type": "text"
      },
      "source": [
        "# Qual técnica de validação cruzada seria mais computacionalmente eficiente para resolver esse problema?\n",
        "\n"
      ]
    },
    {
      "cell_type": "markdown",
      "metadata": {
        "id": "n-2QSvwchFA0",
        "colab_type": "text"
      },
      "source": [
        "K-Fold Cross Validation."
      ]
    },
    {
      "cell_type": "markdown",
      "metadata": {
        "id": "iq05JnJziO0b",
        "colab_type": "text"
      },
      "source": [
        "# Com quantos parâmetros o algoritmo de busca exaustiva em grid, GridSearchCV, pode funcionar?"
      ]
    },
    {
      "cell_type": "markdown",
      "metadata": {
        "id": "YkPrkEoaiRwr",
        "colab_type": "text"
      },
      "source": [
        "\n",
        "Quantos forem necessários."
      ]
    },
    {
      "cell_type": "markdown",
      "metadata": {
        "id": "wZZAFo_eiTIi",
        "colab_type": "text"
      },
      "source": [
        "# Sobre o meu algoritmo, para rodar a otimização de hiperparâmetros e a validação cruzada, é necessário que eu:"
      ]
    },
    {
      "cell_type": "markdown",
      "metadata": {
        "id": "jXl1pqnpiWt7",
        "colab_type": "text"
      },
      "source": [
        "Rode o GridSearchCV. "
      ]
    },
    {
      "cell_type": "markdown",
      "metadata": {
        "id": "fm8txpobibs8",
        "colab_type": "text"
      },
      "source": [
        "# A validação cruzada…"
      ]
    },
    {
      "cell_type": "markdown",
      "metadata": {
        "id": "4gmXJT62ikwH",
        "colab_type": "text"
      },
      "source": [
        "Simula uma situação em que meu modelo está diante de dados desconhecidos para auferir seu provável desempenho quando diante do mundo real."
      ]
    },
    {
      "cell_type": "markdown",
      "metadata": {
        "id": "-Ahghq1giwjI",
        "colab_type": "text"
      },
      "source": [
        "# A otimização de hiperparâmetros:"
      ]
    },
    {
      "cell_type": "markdown",
      "metadata": {
        "id": "n8cAer0bizV8",
        "colab_type": "text"
      },
      "source": [
        "Encontra a melhor (ou uma das melhores) configuração para rodar determinado algoritmo que gerará um modelo."
      ]
    },
    {
      "cell_type": "markdown",
      "metadata": {
        "id": "t2MmKdhkkENf",
        "colab_type": "text"
      },
      "source": [
        "# A validação cruzada:"
      ]
    },
    {
      "cell_type": "markdown",
      "metadata": {
        "id": "RrmBUYVMkFbK",
        "colab_type": "text"
      },
      "source": [
        "Funciona para quaisquer tipos de modelos. "
      ]
    },
    {
      "cell_type": "markdown",
      "metadata": {
        "id": "SeCbQW8cwmLJ",
        "colab_type": "text"
      },
      "source": [
        "# Uma vez gerado e colocado em produção, o seu modelo…"
      ]
    },
    {
      "cell_type": "markdown",
      "metadata": {
        "id": "GJp73PXnwqSM",
        "colab_type": "text"
      },
      "source": [
        "Pode ser reavaliado no futuro, quando diante de novos dados ou situações problema. "
      ]
    }
  ]
}