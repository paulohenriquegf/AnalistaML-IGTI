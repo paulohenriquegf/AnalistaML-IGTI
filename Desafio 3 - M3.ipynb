{
  "nbformat": 4,
  "nbformat_minor": 0,
  "metadata": {
    "colab": {
      "name": "Desafio 3.ipynb",
      "provenance": [],
      "collapsed_sections": []
    },
    "kernelspec": {
      "name": "python3",
      "display_name": "Python 3"
    }
  },
  "cells": [
    {
      "cell_type": "markdown",
      "metadata": {
        "id": "RS6uxZBoy1dD",
        "colab_type": "text"
      },
      "source": [
        "**Desafio 3 - Modulo 3 do Bootcamp Analista de Machine Learning da IGTI**"
      ]
    },
    {
      "cell_type": "markdown",
      "metadata": {
        "id": "ulMEfMNxxqQa",
        "colab_type": "text"
      },
      "source": [
        "### Qual(is) métrica(s) de qualidade você considera a(s) mais importante(s) para medir o desempenho do seu algoritmo de classificação?"
      ]
    },
    {
      "cell_type": "markdown",
      "metadata": {
        "id": "_d3NC8XlxtwP",
        "colab_type": "text"
      },
      "source": [
        "Precisão ou F-Score. "
      ]
    },
    {
      "cell_type": "markdown",
      "metadata": {
        "id": "Fi3D4qQCxun2",
        "colab_type": "text"
      },
      "source": [
        "### Suponha que seu contratante lhe deu 5000 exemplos de números que seu programa terá que classificar. Os exemplos, no entanto, não foram classificados previamente. Que tipo de algoritmo você usaria para gerar um modelo para essa base de dados?"
      ]
    },
    {
      "cell_type": "markdown",
      "metadata": {
        "id": "D6P3NVr6xw1h",
        "colab_type": "text"
      },
      "source": [
        "Agrupamento "
      ]
    },
    {
      "cell_type": "markdown",
      "metadata": {
        "id": "AY4IKRpgxyGj",
        "colab_type": "text"
      },
      "source": [
        "### Suponha que você gerou uma curva de validação para testar o desempenho do seu algoritmo. Na curva, você comparou o desempenho do seu modelo com o desempenho do algoritmo na validação cruzada. O resultado exibiu a sua curva acima da curva da validação cruzada, ou seja, com desempenho bem melhor, e as curvas não convergiram. O que isso significa?"
      ]
    },
    {
      "cell_type": "markdown",
      "metadata": {
        "id": "-vsCDv-Gx10U",
        "colab_type": "text"
      },
      "source": [
        "Overfitting "
      ]
    },
    {
      "cell_type": "markdown",
      "metadata": {
        "id": "vzBDnJBzx7yC",
        "colab_type": "text"
      },
      "source": [
        "### Para este tipo de problema, seu contratante te diz, é preferível que o algoritmo “erre sempre da mesma maneira” do que ele “erre de maneira errática”. Isso se dá porque, na etapa de conferência manual dos resultados incorretos, erros “previsíveis” são corrigidos  de forma mais barata. Que característica seria desejável seu algoritmo ter para que ele tivesse esse tipo de comportamento?"
      ]
    },
    {
      "cell_type": "markdown",
      "metadata": {
        "id": "NLUQf36Rx-Jm",
        "colab_type": "text"
      },
      "source": [
        "Alta tendência e baixa variância "
      ]
    },
    {
      "cell_type": "markdown",
      "metadata": {
        "id": "1URsWZIdyCT9",
        "colab_type": "text"
      },
      "source": [
        "### Suponha que seu cliente te enviou 2100 números classificados previamente para alimentar o treino dos eu algoritmo. Você gera seu modelo. Um tempo depois, seu cliente pergunta se você precisa de mais dados. A obtenção desses dados acarretará em custos maiores, portanto não deve ser feita a não ser que vá trazer benefícios reais para seu algoritmo. Como você poderia descobrir se vale a pena trazer mais dados para o seu algoritmo?"
      ]
    },
    {
      "cell_type": "markdown",
      "metadata": {
        "id": "LmIWMnmSyJCW",
        "colab_type": "text"
      },
      "source": [
        "Usando validação cruzada "
      ]
    },
    {
      "cell_type": "markdown",
      "metadata": {
        "id": "53-AkUEDyLOF",
        "colab_type": "text"
      },
      "source": [
        "### A técnica de validação cruzada “deixar P elementos de fora”, para o problema sob análise, seria uma boa escolha? Justifique sua resposta."
      ]
    },
    {
      "cell_type": "markdown",
      "metadata": {
        "id": "Te-M_jcVyPKp",
        "colab_type": "text"
      },
      "source": [
        " Não - ela é computacionalmente cara demais para ser viável "
      ]
    },
    {
      "cell_type": "markdown",
      "metadata": {
        "id": "KTu6SBOkySG3",
        "colab_type": "text"
      },
      "source": [
        "### Suponha que, num agrupamento, para aquele conjunto de dados, o retorno teve-se valor elevado de entropia. O que isso melhor quer dizer em relação às imagens usadas no treino?"
      ]
    },
    {
      "cell_type": "markdown",
      "metadata": {
        "id": "bxRjEtSpyVEJ",
        "colab_type": "text"
      },
      "source": [
        "As imagens estão se confundido umas com a outras. 1 com 7, por exemplo. "
      ]
    },
    {
      "cell_type": "markdown",
      "metadata": {
        "id": "GUBJOyLvyXC0",
        "colab_type": "text"
      },
      "source": [
        "### Suponha que você tenha usado um classificador multilabel para resolver o seu problema. Marque a alternativa CORRETA."
      ]
    },
    {
      "cell_type": "markdown",
      "metadata": {
        "id": "SyhoK4cLyZWB",
        "colab_type": "text"
      },
      "source": [
        "A perda 0-1 é a métrica de qualidade mais adequada aqui. "
      ]
    },
    {
      "cell_type": "markdown",
      "metadata": {
        "id": "nVarPu4VycFB",
        "colab_type": "text"
      },
      "source": [
        "### Qual técnica de validação cruzada você usaria para resolver o seu problema?"
      ]
    },
    {
      "cell_type": "markdown",
      "metadata": {
        "id": "DUTAZmliyeAb",
        "colab_type": "text"
      },
      "source": [
        "A validação cruzada em k-grupos - é boa mas não é tão cara computacionalmente "
      ]
    },
    {
      "cell_type": "markdown",
      "metadata": {
        "id": "uQWkNwoVyfxA",
        "colab_type": "text"
      },
      "source": [
        "### Na técnica de validação cruzada “divisão 70-30”:"
      ]
    },
    {
      "cell_type": "markdown",
      "metadata": {
        "id": "p8OYFqlfypji",
        "colab_type": "text"
      },
      "source": [
        "Não há regra sobre qual proporção dos dados devem ir para treino e teste. "
      ]
    },
    {
      "cell_type": "markdown",
      "metadata": {
        "id": "WRkNT_IhyrJp",
        "colab_type": "text"
      },
      "source": [
        "### O problema descrito melhor se classifica como um problema de…"
      ]
    },
    {
      "cell_type": "markdown",
      "metadata": {
        "id": "o_vTE84xytMB",
        "colab_type": "text"
      },
      "source": [
        "Classificação single ou multi label, a depender da modelagem. "
      ]
    }
  ]
}